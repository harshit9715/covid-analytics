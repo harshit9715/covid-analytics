{
 "metadata": {
  "orig_nbformat": 2,
  "kernelspec": {
   "name": "python3",
   "display_name": "Python 3",
   "language": "python"
  }
 },
 "nbformat": 4,
 "nbformat_minor": 2,
 "cells": [
  {
   "source": [
    "# Covid- 19 Analysis Report"
   ],
   "cell_type": "markdown",
   "metadata": {}
  },
  {
   "source": [
    "## Import Dependencies"
   ],
   "cell_type": "markdown",
   "metadata": {}
  },
  {
   "cell_type": "code",
   "execution_count": 2,
   "metadata": {},
   "outputs": [],
   "source": [
    "import pandas as pd\n",
    "# import matplotlib "
   ]
  },
  {
   "source": [
    "## Import data files"
   ],
   "cell_type": "markdown",
   "metadata": {}
  },
  {
   "cell_type": "code",
   "execution_count": 3,
   "metadata": {},
   "outputs": [],
   "source": [
    "covid_data = pd.read_csv('./covid_19_india.csv')\n",
    "vaccine_data = pd.read_csv('./covid_vaccine_statewise.csv')"
   ]
  },
  {
   "source": [
    "### Check Data, column and their types"
   ],
   "cell_type": "markdown",
   "metadata": {}
  },
  {
   "cell_type": "code",
   "execution_count": 4,
   "metadata": {},
   "outputs": [
    {
     "output_type": "execute_result",
     "data": {
      "text/plain": [
       "   Sno        Date     Time State/UnionTerritory ConfirmedIndianNational  \\\n",
       "0    1  2020-01-30  6:00 PM               Kerala                       1   \n",
       "1    2  2020-01-31  6:00 PM               Kerala                       1   \n",
       "2    3  2020-02-01  6:00 PM               Kerala                       2   \n",
       "3    4  2020-02-02  6:00 PM               Kerala                       3   \n",
       "4    5  2020-02-03  6:00 PM               Kerala                       3   \n",
       "\n",
       "  ConfirmedForeignNational  Cured  Deaths  Confirmed  \n",
       "0                        0      0       0          1  \n",
       "1                        0      0       0          1  \n",
       "2                        0      0       0          2  \n",
       "3                        0      0       0          3  \n",
       "4                        0      0       0          3  "
      ],
      "text/html": "<div>\n<style scoped>\n    .dataframe tbody tr th:only-of-type {\n        vertical-align: middle;\n    }\n\n    .dataframe tbody tr th {\n        vertical-align: top;\n    }\n\n    .dataframe thead th {\n        text-align: right;\n    }\n</style>\n<table border=\"1\" class=\"dataframe\">\n  <thead>\n    <tr style=\"text-align: right;\">\n      <th></th>\n      <th>Sno</th>\n      <th>Date</th>\n      <th>Time</th>\n      <th>State/UnionTerritory</th>\n      <th>ConfirmedIndianNational</th>\n      <th>ConfirmedForeignNational</th>\n      <th>Cured</th>\n      <th>Deaths</th>\n      <th>Confirmed</th>\n    </tr>\n  </thead>\n  <tbody>\n    <tr>\n      <th>0</th>\n      <td>1</td>\n      <td>2020-01-30</td>\n      <td>6:00 PM</td>\n      <td>Kerala</td>\n      <td>1</td>\n      <td>0</td>\n      <td>0</td>\n      <td>0</td>\n      <td>1</td>\n    </tr>\n    <tr>\n      <th>1</th>\n      <td>2</td>\n      <td>2020-01-31</td>\n      <td>6:00 PM</td>\n      <td>Kerala</td>\n      <td>1</td>\n      <td>0</td>\n      <td>0</td>\n      <td>0</td>\n      <td>1</td>\n    </tr>\n    <tr>\n      <th>2</th>\n      <td>3</td>\n      <td>2020-02-01</td>\n      <td>6:00 PM</td>\n      <td>Kerala</td>\n      <td>2</td>\n      <td>0</td>\n      <td>0</td>\n      <td>0</td>\n      <td>2</td>\n    </tr>\n    <tr>\n      <th>3</th>\n      <td>4</td>\n      <td>2020-02-02</td>\n      <td>6:00 PM</td>\n      <td>Kerala</td>\n      <td>3</td>\n      <td>0</td>\n      <td>0</td>\n      <td>0</td>\n      <td>3</td>\n    </tr>\n    <tr>\n      <th>4</th>\n      <td>5</td>\n      <td>2020-02-03</td>\n      <td>6:00 PM</td>\n      <td>Kerala</td>\n      <td>3</td>\n      <td>0</td>\n      <td>0</td>\n      <td>0</td>\n      <td>3</td>\n    </tr>\n  </tbody>\n</table>\n</div>"
     },
     "metadata": {},
     "execution_count": 4
    }
   ],
   "source": [
    "covid_data.head()\n"
   ]
  },
  {
   "cell_type": "code",
   "execution_count": 26,
   "metadata": {},
   "outputs": [
    {
     "output_type": "execute_result",
     "data": {
      "text/plain": [
       "Sno                          int64\n",
       "Date                        object\n",
       "Time                        object\n",
       "State/UnionTerritory        object\n",
       "ConfirmedIndianNational     object\n",
       "ConfirmedForeignNational    object\n",
       "Cured                        int64\n",
       "Deaths                       int64\n",
       "Confirmed                    int64\n",
       "dtype: object"
      ]
     },
     "metadata": {},
     "execution_count": 26
    }
   ],
   "source": [
    "covid_data.dtypes"
   ]
  },
  {
   "cell_type": "code",
   "execution_count": 27,
   "metadata": {},
   "outputs": [
    {
     "output_type": "execute_result",
     "data": {
      "text/plain": [
       "   Updated On  State  Total Individuals Vaccinated  Total Sessions Conducted  \\\n",
       "0  16/01/2021  India                       48276.0                    3455.0   \n",
       "1  17/01/2021  India                       58604.0                    8532.0   \n",
       "2  18/01/2021  India                       99449.0                   13611.0   \n",
       "3  19/01/2021  India                      195525.0                   17855.0   \n",
       "4  20/01/2021  India                      251280.0                   25472.0   \n",
       "\n",
       "   Total Sites   First Dose Administered  Second Dose Administered  \\\n",
       "0        2957.0                  48276.0                       0.0   \n",
       "1        4954.0                  58604.0                       0.0   \n",
       "2        6583.0                  99449.0                       0.0   \n",
       "3        7951.0                 195525.0                       0.0   \n",
       "4       10504.0                 251280.0                       0.0   \n",
       "\n",
       "   Male(Individuals Vaccinated)  Female(Individuals Vaccinated)  \\\n",
       "0                       23757.0                         24517.0   \n",
       "1                       27348.0                         31252.0   \n",
       "2                       41361.0                         58083.0   \n",
       "3                       81901.0                        113613.0   \n",
       "4                       98111.0                        153145.0   \n",
       "\n",
       "   Transgender(Individuals Vaccinated)  Total Covaxin Administered  \\\n",
       "0                                  2.0                       579.0   \n",
       "1                                  4.0                       635.0   \n",
       "2                                  5.0                      1299.0   \n",
       "3                                 11.0                      3017.0   \n",
       "4                                 24.0                      3946.0   \n",
       "\n",
       "   Total CoviShield Administered  AEFI  18-30 years (Age)  30-45 years (Age)  \\\n",
       "0                        47697.0   NaN                NaN                NaN   \n",
       "1                        57969.0   NaN                NaN                NaN   \n",
       "2                        98150.0   NaN                NaN                NaN   \n",
       "3                       192508.0   NaN                NaN                NaN   \n",
       "4                       247334.0   NaN                NaN                NaN   \n",
       "\n",
       "   45-60 years (Age)  60+ years (Age)  Total Doses Administered  \n",
       "0                NaN              NaN                   48276.0  \n",
       "1                NaN              NaN                   58604.0  \n",
       "2                NaN              NaN                   99449.0  \n",
       "3                NaN              NaN                  195525.0  \n",
       "4                NaN              NaN                  251280.0  "
      ],
      "text/html": "<div>\n<style scoped>\n    .dataframe tbody tr th:only-of-type {\n        vertical-align: middle;\n    }\n\n    .dataframe tbody tr th {\n        vertical-align: top;\n    }\n\n    .dataframe thead th {\n        text-align: right;\n    }\n</style>\n<table border=\"1\" class=\"dataframe\">\n  <thead>\n    <tr style=\"text-align: right;\">\n      <th></th>\n      <th>Updated On</th>\n      <th>State</th>\n      <th>Total Individuals Vaccinated</th>\n      <th>Total Sessions Conducted</th>\n      <th>Total Sites</th>\n      <th>First Dose Administered</th>\n      <th>Second Dose Administered</th>\n      <th>Male(Individuals Vaccinated)</th>\n      <th>Female(Individuals Vaccinated)</th>\n      <th>Transgender(Individuals Vaccinated)</th>\n      <th>Total Covaxin Administered</th>\n      <th>Total CoviShield Administered</th>\n      <th>AEFI</th>\n      <th>18-30 years (Age)</th>\n      <th>30-45 years (Age)</th>\n      <th>45-60 years (Age)</th>\n      <th>60+ years (Age)</th>\n      <th>Total Doses Administered</th>\n    </tr>\n  </thead>\n  <tbody>\n    <tr>\n      <th>0</th>\n      <td>16/01/2021</td>\n      <td>India</td>\n      <td>48276.0</td>\n      <td>3455.0</td>\n      <td>2957.0</td>\n      <td>48276.0</td>\n      <td>0.0</td>\n      <td>23757.0</td>\n      <td>24517.0</td>\n      <td>2.0</td>\n      <td>579.0</td>\n      <td>47697.0</td>\n      <td>NaN</td>\n      <td>NaN</td>\n      <td>NaN</td>\n      <td>NaN</td>\n      <td>NaN</td>\n      <td>48276.0</td>\n    </tr>\n    <tr>\n      <th>1</th>\n      <td>17/01/2021</td>\n      <td>India</td>\n      <td>58604.0</td>\n      <td>8532.0</td>\n      <td>4954.0</td>\n      <td>58604.0</td>\n      <td>0.0</td>\n      <td>27348.0</td>\n      <td>31252.0</td>\n      <td>4.0</td>\n      <td>635.0</td>\n      <td>57969.0</td>\n      <td>NaN</td>\n      <td>NaN</td>\n      <td>NaN</td>\n      <td>NaN</td>\n      <td>NaN</td>\n      <td>58604.0</td>\n    </tr>\n    <tr>\n      <th>2</th>\n      <td>18/01/2021</td>\n      <td>India</td>\n      <td>99449.0</td>\n      <td>13611.0</td>\n      <td>6583.0</td>\n      <td>99449.0</td>\n      <td>0.0</td>\n      <td>41361.0</td>\n      <td>58083.0</td>\n      <td>5.0</td>\n      <td>1299.0</td>\n      <td>98150.0</td>\n      <td>NaN</td>\n      <td>NaN</td>\n      <td>NaN</td>\n      <td>NaN</td>\n      <td>NaN</td>\n      <td>99449.0</td>\n    </tr>\n    <tr>\n      <th>3</th>\n      <td>19/01/2021</td>\n      <td>India</td>\n      <td>195525.0</td>\n      <td>17855.0</td>\n      <td>7951.0</td>\n      <td>195525.0</td>\n      <td>0.0</td>\n      <td>81901.0</td>\n      <td>113613.0</td>\n      <td>11.0</td>\n      <td>3017.0</td>\n      <td>192508.0</td>\n      <td>NaN</td>\n      <td>NaN</td>\n      <td>NaN</td>\n      <td>NaN</td>\n      <td>NaN</td>\n      <td>195525.0</td>\n    </tr>\n    <tr>\n      <th>4</th>\n      <td>20/01/2021</td>\n      <td>India</td>\n      <td>251280.0</td>\n      <td>25472.0</td>\n      <td>10504.0</td>\n      <td>251280.0</td>\n      <td>0.0</td>\n      <td>98111.0</td>\n      <td>153145.0</td>\n      <td>24.0</td>\n      <td>3946.0</td>\n      <td>247334.0</td>\n      <td>NaN</td>\n      <td>NaN</td>\n      <td>NaN</td>\n      <td>NaN</td>\n      <td>NaN</td>\n      <td>251280.0</td>\n    </tr>\n  </tbody>\n</table>\n</div>"
     },
     "metadata": {},
     "execution_count": 27
    }
   ],
   "source": [
    "vaccine_data.head()"
   ]
  },
  {
   "cell_type": "code",
   "execution_count": 28,
   "metadata": {},
   "outputs": [
    {
     "output_type": "execute_result",
     "data": {
      "text/plain": [
       "Updated On                              object\n",
       "State                                   object\n",
       "Total Individuals Vaccinated           float64\n",
       "Total Sessions Conducted               float64\n",
       "Total Sites                            float64\n",
       "First Dose Administered                float64\n",
       "Second Dose Administered               float64\n",
       "Male(Individuals Vaccinated)           float64\n",
       "Female(Individuals Vaccinated)         float64\n",
       "Transgender(Individuals Vaccinated)    float64\n",
       "Total Covaxin Administered             float64\n",
       "Total CoviShield Administered          float64\n",
       "AEFI                                   float64\n",
       "18-30 years (Age)                      float64\n",
       "30-45 years (Age)                      float64\n",
       "45-60 years (Age)                      float64\n",
       "60+ years (Age)                        float64\n",
       "Total Doses Administered               float64\n",
       "dtype: object"
      ]
     },
     "metadata": {},
     "execution_count": 28
    }
   ],
   "source": [
    "## "
   ]
  },
  {
   "cell_type": "code",
   "execution_count": null,
   "metadata": {},
   "outputs": [],
   "source": [
    "vaccine_data.dtypes"
   ]
  },
  {
   "source": [
    "## Month-wise Total covid confirmed cases for all States/UT in the year"
   ],
   "cell_type": "markdown",
   "metadata": {}
  },
  {
   "source": [
    "# Total confirmed cases\n",
    "# sum(covid_data['Confirmed'])\n",
    "\n",
    "# Fix Datetime for groupby\n",
    "covid_data['Date'] = pd.to_datetime(covid_data['Date'], errors='coerce')\n",
    "\n",
    "year_2020 = covid_data[covid_data['Date'].dt.year == 2020]\n",
    "year_2021 = covid_data[covid_data['Date'].dt.year == 2021]\n",
    "# print(year_2021)\n",
    "\n",
    "# Month-wise Total covid confirmed cases for all States/UT in the year\n",
    "ans = year_2020['Confirmed'].groupby(year_2020['Date'].dt.to_period('M')).sum()\n",
    "# ans.to_csv(r'outputs/1_monthwise_tatal_2020.csv')\n"
   ],
   "cell_type": "code",
   "metadata": {},
   "execution_count": null,
   "outputs": []
  },
  {
   "source": [
    "## Find total death cases in each States/UT and full country in the year 2020"
   ],
   "cell_type": "markdown",
   "metadata": {}
  },
  {
   "cell_type": "code",
   "execution_count": 168,
   "metadata": {},
   "outputs": [],
   "source": [
    "# Find total death cases in each States/UT and full country in the year 2020\n",
    "\n",
    "df_deaths_region = year_2020['Deaths'].groupby(year_2020['State/UnionTerritory']).sum()\n",
    "df_deaths_region.loc[\"Total\"] = year_2020['Deaths'].sum()\n",
    "df_deaths_region\n",
    "# df_deaths_region.to_csv(r'outputs/2_death_statewise_2020.csv')\n"
   ]
  },
  {
   "source": [
    "## The Average Covid cases for all States/UT for the month April, in 2020 & 2021"
   ],
   "cell_type": "markdown",
   "metadata": {}
  },
  {
   "cell_type": "code",
   "execution_count": 169,
   "metadata": {},
   "outputs": [],
   "source": [
    "april_2020 = year_2020[year_2020['Date'].map(lambda x: x.month) == 4]\n",
    "april_2021 = year_2021[year_2021['Date'].map(lambda x: x.month) == 4]\n",
    "\n",
    "# april_2020 = covid_data[covid_data['Date'].dt.month == 4]\n",
    "april_2020['Confirmed'].mean()\n",
    "april_2021['Confirmed'].mean()\n",
    "\n",
    "avg_april = pd.DataFrame(columns = ['Apr Avg'])\n",
    "# avg_april['Year'] = ['2020', \"2021\"]\n",
    "avg_april.loc[\"2020\"] = april_2020['Confirmed'].mean()\n",
    "avg_april.loc[\"2021\"] = april_2021['Confirmed'].mean()\n",
    "avg_april\n",
    "\n",
    "# avg_april.to_csv(r'outputs/3_avg_april.csv')"
   ]
  },
  {
   "source": [
    "## Date has the highest covid cases in the country in the year 2020 & 2021"
   ],
   "cell_type": "markdown",
   "metadata": {}
  },
  {
   "cell_type": "code",
   "execution_count": 170,
   "metadata": {},
   "outputs": [],
   "source": [
    "# date has the highest covid cases in the country in the year 2020 & 2021\n",
    "\n",
    "# covid_data[covid_data['Confirmed'] == covid_data['Confirmed'].max()]\n",
    "max_death_1day = covid_data[covid_data['Confirmed'] == covid_data['Confirmed'].max()]\n",
    "max_death_1day\n",
    "# max_death_1day.to_csv(r'outputs/4_max_death_1day.csv')"
   ]
  },
  {
   "source": [
    "## The month-wise total number of male vaccinated in every States/UT, along with the covid cases, month-wise for the respective States/UT in the year of 2021\n"
   ],
   "cell_type": "markdown",
   "metadata": {}
  },
  {
   "source": [
    "### Incomplete"
   ],
   "cell_type": "markdown",
   "metadata": {}
  },
  {
   "cell_type": "code",
   "execution_count": 5,
   "metadata": {},
   "outputs": [
    {
     "output_type": "execute_result",
     "data": {
      "text/plain": [
       "State\n",
       "Andaman and Nicobar Islands                    53903.0\n",
       "Andhra Pradesh                               2813644.0\n",
       "Arunachal Pradesh                             123119.0\n",
       "Assam                                        1426380.0\n",
       "Bihar                                        3829966.0\n",
       "Chandigarh                                    118975.0\n",
       "Chhattisgarh                                 2473087.0\n",
       "Dadra and Nagar Haveli and Daman and Diu       49025.0\n",
       "Delhi                                        2008240.0\n",
       "Goa                                           173190.0\n",
       "Gujarat                                      5982566.0\n",
       "Haryana                                      2104603.0\n",
       "Himachal Pradesh                              866844.0\n",
       "India                                       74324379.0\n",
       "Jammu and Kashmir                            1350850.0\n",
       "Jharkhand                                    1501678.0\n",
       "Karnataka                                    4321103.0\n",
       "Kerala                                       2929192.0\n",
       "Ladakh                                         47718.0\n",
       "Lakshadweep                                    11997.0\n",
       "Madhya Pradesh                               4007674.0\n",
       "Maharashtra                                  8463005.0\n",
       "Manipur                                       174158.0\n",
       "Meghalaya                                     168275.0\n",
       "Mizoram                                       120413.0\n",
       "Nagaland                                      107893.0\n",
       "Odisha                                       2755958.0\n",
       "Puducherry                                     92689.0\n",
       "Punjab                                       1981795.0\n",
       "Rajasthan                                    6254687.0\n",
       "Sikkim                                         89534.0\n",
       "Tamil Nadu                                   2698147.0\n",
       "Telangana                                    2263127.0\n",
       "Tripura                                       508554.0\n",
       "Uttar Pradesh                                6625417.0\n",
       "Uttarakhand                                  1000126.0\n",
       "West Bengal                                  4820673.0\n",
       "Name: Male(Individuals Vaccinated), dtype: float64"
      ]
     },
     "metadata": {},
     "execution_count": 5
    }
   ],
   "source": [
    "# Fix Datetime for groupby\n",
    "vaccine_data['Date'] = pd.to_datetime(vaccine_data['Updated On'], format=\"%d/%m/%Y\", errors='coerce')\n",
    "\n",
    "vaccine_data['Date']\n",
    "vaccine_data_2021 = vaccine_data[vaccine_data['Date'].dt.year == 2021]\n",
    "vaccine_data_2021\n",
    "# vaccine_data_2021 = vaccine_data[vaccine_data['Updated On'].dt.year == 2021]\n",
    "\n",
    "# vaccine_data['Male(Individuals Vaccinated)'].groupby(vaccine_data_2021['Date'].dt.to_period('M')).sum()\n",
    "\n",
    "statewise_male_vaccinated = vaccine_data['Male(Individuals Vaccinated)'].groupby(vaccine_data_2021['State']).max()\n",
    "statewise_male_vaccinated\n",
    "# statewise_male_vaccinated.to_csv(r'outputs/5_statewise_male_vaccinated.csv')"
   ]
  },
  {
   "cell_type": "code",
   "execution_count": 12,
   "metadata": {},
   "outputs": [],
   "source": [
    "vaccine_data_2021['month'] =  vaccine_data_2021['Date'].dt.strftime('%m')\n",
    "ans = vaccine_data_2021['Male(Individuals Vaccinated)'].groupby([vaccine_data_2021['State'],vaccine_data_2021['month']]).sum()\n",
    "# ans\n",
    "ans.to_csv(r'outputs/5_completed.csv')"
   ]
  },
  {
   "cell_type": "code",
   "execution_count": null,
   "metadata": {},
   "outputs": [],
   "source": []
  }
 ]
}